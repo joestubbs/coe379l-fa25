{
 "cells": [
  {
   "cell_type": "code",
   "execution_count": 1,
   "id": "83740cc7-9d74-4ce0-b291-96694354dbbc",
   "metadata": {},
   "outputs": [],
   "source": [
    "import numpy as np\n",
    "import pandas as pd \n",
    "import matplotlib.pyplot as plt\n",
    "import seaborn as sns"
   ]
  },
  {
   "cell_type": "code",
   "execution_count": 2,
   "id": "64708888-d020-446d-a785-d08422df60fc",
   "metadata": {},
   "outputs": [
    {
     "name": "stderr",
     "output_type": "stream",
     "text": [
      "2025-08-22 06:54:26.281003: I tensorflow/core/platform/cpu_feature_guard.cc:210] This TensorFlow binary is optimized to use available CPU instructions in performance-critical operations.\n",
      "To enable the following instructions: AVX2 AVX_VNNI FMA, in other operations, rebuild TensorFlow with the appropriate compiler flags.\n"
     ]
    },
    {
     "ename": "AttributeError",
     "evalue": "'MessageFactory' object has no attribute 'GetPrototype'",
     "output_type": "error",
     "traceback": [
      "\u001b[31m---------------------------------------------------------------------------\u001b[39m",
      "\u001b[31mAttributeError\u001b[39m                            Traceback (most recent call last)",
      "\u001b[31mAttributeError\u001b[39m: 'MessageFactory' object has no attribute 'GetPrototype'"
     ]
    }
   ],
   "source": [
    "import tensorflow as tf\n",
    "import keras\n",
    "from keras.datasets import mnist"
   ]
  },
  {
   "cell_type": "code",
   "execution_count": 3,
   "id": "8760679f-1c19-4692-8a8c-bd91b8b0d9d1",
   "metadata": {},
   "outputs": [
    {
     "name": "stdout",
     "output_type": "stream",
     "text": [
      "bcc==0.18.0\n",
      "blinker==1.4\n",
      "Brlapi==0.8.3\n",
      "certifi==2020.6.20\n",
      "chardet==4.0.0\n",
      "chrome-gnome-shell==0.0.0\n",
      "click==8.0.3\n",
      "colorama==0.4.4\n",
      "command-not-found==0.3\n",
      "cryptography==3.4.8\n",
      "cupshelpers==1.0\n",
      "dbus-python==1.2.18\n",
      "defer==1.0.6\n",
      "distro==1.7.0\n",
      "evdev==1.4.0\n",
      "hidpidaemon==18.4.6\n",
      "httplib2==0.20.2\n",
      "idna==3.3\n",
      "importlib-metadata==4.6.4\n",
      "jeepney==0.7.1\n",
      "kernelstub==3.1.4\n",
      "keyring==23.5.0\n",
      "language-selector==0.1\n",
      "launchpadlib==1.10.16\n",
      "lazr.restfulclient==0.14.4\n",
      "lazr.uri==1.0.6\n",
      "louis==3.20.0\n",
      "macaroonbakery==1.3.1\n",
      "more-itertools==8.10.0\n",
      "netaddr==0.8.0\n",
      "netifaces==0.11.0\n",
      "oauthlib==3.2.0\n",
      "pop-transition==1.1.2\n",
      "protobuf==3.12.4\n",
      "pycairo==1.20.1\n",
      "pycups==2.0.1\n",
      "pydbus==0.6.0\n",
      "PyGObject==3.42.1\n",
      "PyJWT==2.3.0\n",
      "pymacaroons==0.13.0\n",
      "PyNaCl==1.5.0\n",
      "pyparsing==2.4.7\n",
      "pyRFC3339==1.1\n",
      "python-apt==2.4.0+ubuntu4\n",
      "python-debian==0.1.43+ubuntu1.1\n",
      "python-gnupg==0.4.8\n",
      "python-xlib==0.29\n",
      "pytz==2022.1\n",
      "pyxdg==0.27\n",
      "PyYAML==5.4.1\n",
      "repolib==2.2.1\n",
      "repoman==1.4.0\n",
      "requests==2.25.1\n",
      "SecretStorage==3.3.1\n",
      "sessioninstaller==0.0.0\n",
      "six==1.16.0\n",
      "system76driver==24.4.8\n",
      "systemd-python==234\n",
      "ubuntu-drivers-common==0.0.0\n",
      "ufw==0.36.1\n",
      "urllib3==1.26.5\n",
      "wadllib==1.3.6\n",
      "xdg==5\n",
      "xkit==0.0.0\n",
      "zipp==1.0.0\n"
     ]
    }
   ],
   "source": [
    "!pip3 freeze"
   ]
  },
  {
   "cell_type": "code",
   "execution_count": 4,
   "id": "916a7ff4-4fd2-4f76-9050-959dfc200f74",
   "metadata": {},
   "outputs": [
    {
     "data": {
      "text/plain": [
       "<tf.Tensor: shape=(), dtype=int64, numpy=2>"
      ]
     },
     "execution_count": 4,
     "metadata": {},
     "output_type": "execute_result"
    }
   ],
   "source": [
    "tf.argmax([0,1,2])"
   ]
  },
  {
   "cell_type": "code",
   "execution_count": null,
   "id": "4641fa3c-fbbe-4761-b094-2e6dcffbd495",
   "metadata": {},
   "outputs": [],
   "source": []
  }
 ],
 "metadata": {
  "kernelspec": {
   "display_name": "Python 3 (ipykernel)",
   "language": "python",
   "name": "python3"
  },
  "language_info": {
   "codemirror_mode": {
    "name": "ipython",
    "version": 3
   },
   "file_extension": ".py",
   "mimetype": "text/x-python",
   "name": "python",
   "nbconvert_exporter": "python",
   "pygments_lexer": "ipython3",
   "version": "3.12.11"
  }
 },
 "nbformat": 4,
 "nbformat_minor": 5
}
