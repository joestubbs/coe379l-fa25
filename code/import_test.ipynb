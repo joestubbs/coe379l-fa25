{
 "cells": [
  {
   "cell_type": "code",
   "execution_count": 4,
   "id": "83740cc7-9d74-4ce0-b291-96694354dbbc",
   "metadata": {},
   "outputs": [],
   "source": [
    "import numpy as np\n",
    "import pandas as pd \n",
    "import matplotlib.pyplot as plt\n",
    "import seaborn as sns"
   ]
  },
  {
   "cell_type": "code",
   "execution_count": 5,
   "id": "64708888-d020-446d-a785-d08422df60fc",
   "metadata": {},
   "outputs": [],
   "source": [
    "import tensorflow as tf\n",
    "import keras\n",
    "from keras.datasets import mnist"
   ]
  },
  {
   "cell_type": "code",
   "execution_count": 8,
   "id": "8760679f-1c19-4692-8a8c-bd91b8b0d9d1",
   "metadata": {},
   "outputs": [
    {
     "name": "stdout",
     "output_type": "stream",
     "text": [
      "argcomplete==3.1.4\n",
      "attrs==23.2.0\n",
      "Babel==2.10.3\n",
      "bcc==0.29.1\n",
      "bcrypt==3.2.2\n",
      "blinker==1.7.0\n",
      "Brlapi==0.8.5\n",
      "certifi==2023.11.17\n",
      "chardet==5.2.0\n",
      "click==8.1.6\n",
      "cloud-init==25.1.4\n",
      "colorama==0.4.6\n",
      "command-not-found==0.3\n",
      "configobj==5.0.8\n",
      "cryptography==41.0.7\n",
      "cupshelpers==1.0\n",
      "dbus-python==1.3.2\n",
      "defer==1.0.6\n",
      "distro==1.9.0\n",
      "distro-info==1.7+build1\n",
      "duplicity==2.1.4\n",
      "fasteners==0.18\n",
      "httplib2==0.20.4\n",
      "idna==3.6\n",
      "Jinja2==3.1.2\n",
      "jsonpatch==1.32\n",
      "jsonpointer==2.0\n",
      "jsonschema==4.10.3\n",
      "language-selector==0.1\n",
      "launchpadlib==1.11.0\n",
      "lazr.restfulclient==0.14.6\n",
      "lazr.uri==1.0.6\n",
      "louis==3.29.0\n",
      "Mako==1.3.2.dev0\n",
      "markdown-it-py==3.0.0\n",
      "MarkupSafe==2.1.5\n",
      "mdurl==0.1.2\n",
      "monotonic==1.6\n",
      "netaddr==0.8.0\n",
      "netifaces==0.11.0\n",
      "oauthlib==3.2.2\n",
      "olefile==0.46\n",
      "packaging==24.0\n",
      "paramiko==2.12.0\n",
      "pexpect==4.9.0\n",
      "pillow==10.2.0\n",
      "pipx==1.4.3\n",
      "platformdirs==4.2.0\n",
      "psutil==5.9.8\n",
      "ptyprocess==0.7.0\n",
      "pycairo==1.25.1\n",
      "pycups==2.0.1\n",
      "Pygments==2.17.2\n",
      "PyGObject==3.48.2\n",
      "PyJWT==2.7.0\n",
      "PyNaCl==1.5.0\n",
      "pyparsing==3.1.1\n",
      "pyrsistent==0.20.0\n",
      "pyserial==3.5\n",
      "python-apt==2.7.7+ubuntu4\n",
      "python-dateutil==2.8.2\n",
      "python-debian==0.1.49+ubuntu2\n",
      "pytz==2024.1\n",
      "pyxdg==0.28\n",
      "PyYAML==6.0.1\n",
      "requests==2.31.0\n",
      "rich==13.7.1\n",
      "screen-resolution-extra==0.0.0\n",
      "setuptools==68.1.2\n",
      "six==1.16.0\n",
      "systemd-python==235\n",
      "typing_extensions==4.10.0\n",
      "ubuntu-drivers-common==0.0.0\n",
      "ubuntu-pro-client==8001\n",
      "ufw==0.36.2\n",
      "unattended-upgrades==0.1\n",
      "urllib3==2.0.7\n",
      "usb-creator==0.3.16\n",
      "userpath==1.9.1\n",
      "wadllib==1.3.6\n",
      "wheel==0.42.0\n",
      "xdg==5\n",
      "xkit==0.0.0\n"
     ]
    }
   ],
   "source": [
    "!pip3 freeze"
   ]
  },
  {
   "cell_type": "code",
   "execution_count": 4,
   "id": "916a7ff4-4fd2-4f76-9050-959dfc200f74",
   "metadata": {},
   "outputs": [
    {
     "ename": "ModuleNotFoundError",
     "evalue": "No module named 'gnureadline'",
     "output_type": "error",
     "traceback": [
      "\u001b[31m---------------------------------------------------------------------------\u001b[39m",
      "\u001b[31mModuleNotFoundError\u001b[39m                       Traceback (most recent call last)",
      "\u001b[36mCell\u001b[39m\u001b[36m \u001b[39m\u001b[32mIn[4]\u001b[39m\u001b[32m, line 1\u001b[39m\n\u001b[32m----> \u001b[39m\u001b[32m1\u001b[39m \u001b[38;5;28;01mimport\u001b[39;00m\u001b[38;5;250m \u001b[39m\u001b[34;01mgnureadline\u001b[39;00m\n",
      "\u001b[31mModuleNotFoundError\u001b[39m: No module named 'gnureadline'"
     ]
    }
   ],
   "source": []
  },
  {
   "cell_type": "code",
   "execution_count": null,
   "id": "4641fa3c-fbbe-4761-b094-2e6dcffbd495",
   "metadata": {},
   "outputs": [],
   "source": []
  }
 ],
 "metadata": {
  "kernelspec": {
   "display_name": "Python 3 (ipykernel)",
   "language": "python",
   "name": "python3"
  },
  "language_info": {
   "codemirror_mode": {
    "name": "ipython",
    "version": 3
   },
   "file_extension": ".py",
   "mimetype": "text/x-python",
   "name": "python",
   "nbconvert_exporter": "python",
   "pygments_lexer": "ipython3",
   "version": "3.12.11"
  }
 },
 "nbformat": 4,
 "nbformat_minor": 5
}
